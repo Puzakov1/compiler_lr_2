{
 "cells": [
  {
   "cell_type": "code",
   "execution_count": 1,
   "id": "4ce3238a",
   "metadata": {},
   "outputs": [],
   "source": [
    "from itertools import combinations\n",
    "import copy"
   ]
  },
  {
   "cell_type": "code",
   "execution_count": 2,
   "id": "cf7ddf33",
   "metadata": {},
   "outputs": [],
   "source": [
    "eps=\"ε\""
   ]
  },
  {
   "cell_type": "code",
   "execution_count": 3,
   "id": "abdeea64",
   "metadata": {},
   "outputs": [],
   "source": [
    "in_grammar = \"\"\"\n",
    "3\n",
    "E T F\n",
    "5\n",
    "+ * ( ) a\n",
    "7\n",
    "E -> E + T\n",
    "E -> T\n",
    "T -> T * F\n",
    "T -> F\n",
    "F -> a\n",
    "F -> (E)\n",
    "E\n",
    "\"\"\""
   ]
  },
  {
   "cell_type": "code",
   "execution_count": 4,
   "id": "a8f91b33",
   "metadata": {},
   "outputs": [],
   "source": [
    "# in_grammar = \"\"\"\n",
    "# 6\n",
    "# S A B C D E\n",
    "# 3\n",
    "# a b c\n",
    "# 14\n",
    "# S->A\n",
    "# S->B\n",
    "# A->C\n",
    "# A->D\n",
    "# B->D\n",
    "# B->E\n",
    "# C->S\n",
    "# C->a\n",
    "# C->ε\n",
    "# D->S\n",
    "# D->b\n",
    "# E->S\n",
    "# E->c\n",
    "# E->ε\n",
    "# S\n",
    "# \"\"\""
   ]
  },
  {
   "cell_type": "code",
   "execution_count": 5,
   "id": "969688ac",
   "metadata": {},
   "outputs": [
    {
     "data": {
      "text/plain": [
       "['3',\n",
       " 'E T F',\n",
       " '5',\n",
       " '+ * ( ) a',\n",
       " '7',\n",
       " 'E -> E + T',\n",
       " 'E -> T',\n",
       " 'T -> T * F',\n",
       " 'T -> F',\n",
       " 'F -> a',\n",
       " 'F -> (E)',\n",
       " 'E']"
      ]
     },
     "execution_count": 5,
     "metadata": {},
     "output_type": "execute_result"
    }
   ],
   "source": [
    "grammar = in_grammar.split(\"\\n\")\n",
    "while '' in grammar:\n",
    "    grammar.remove('')\n",
    "grammar"
   ]
  },
  {
   "cell_type": "code",
   "execution_count": 6,
   "id": "ebf082a9",
   "metadata": {},
   "outputs": [
    {
     "data": {
      "text/plain": [
       "['E', 'T', 'F']"
      ]
     },
     "execution_count": 6,
     "metadata": {},
     "output_type": "execute_result"
    }
   ],
   "source": [
    "nonterm = grammar[1].split(\" \")\n",
    "nonterm"
   ]
  },
  {
   "cell_type": "code",
   "execution_count": 7,
   "id": "49272c92",
   "metadata": {},
   "outputs": [
    {
     "data": {
      "text/plain": [
       "['+', '*', '(', ')', 'a']"
      ]
     },
     "execution_count": 7,
     "metadata": {},
     "output_type": "execute_result"
    }
   ],
   "source": [
    "term = grammar[3].split(\" \")\n",
    "term"
   ]
  },
  {
   "cell_type": "code",
   "execution_count": 8,
   "id": "ddb7ce98",
   "metadata": {},
   "outputs": [
    {
     "data": {
      "text/plain": [
       "7"
      ]
     },
     "execution_count": 8,
     "metadata": {},
     "output_type": "execute_result"
    }
   ],
   "source": [
    "num_rules = int(grammar[4])\n",
    "num_rules"
   ]
  },
  {
   "cell_type": "code",
   "execution_count": 9,
   "id": "ba4129f3",
   "metadata": {},
   "outputs": [
    {
     "data": {
      "text/plain": [
       "['E -> E + T', 'E -> T', 'T -> T * F', 'T -> F', 'F -> a', 'F -> (E)']"
      ]
     },
     "execution_count": 9,
     "metadata": {},
     "output_type": "execute_result"
    }
   ],
   "source": [
    "in_rules = grammar[5:-1]\n",
    "in_rules"
   ]
  },
  {
   "cell_type": "code",
   "execution_count": null,
   "id": "ac308503",
   "metadata": {},
   "outputs": [],
   "source": []
  },
  {
   "cell_type": "code",
   "execution_count": 10,
   "id": "bc93e0ff",
   "metadata": {},
   "outputs": [
    {
     "data": {
      "text/plain": [
       "{'E': [['E', '+', 'T'], ['T']],\n",
       " 'T': [['T', '*', 'F'], ['F']],\n",
       " 'F': [['a'], ['(', 'E', ')']]}"
      ]
     },
     "execution_count": 10,
     "metadata": {},
     "output_type": "execute_result"
    }
   ],
   "source": [
    "rules = {}\n",
    "for rule in in_rules:\n",
    "    symbol, product = rule.replace(\" \", \"\").split(\"->\")\n",
    "    if symbol not in rules.keys():\n",
    "        rules[symbol] = []\n",
    "    rules[symbol].append(list(product))\n",
    "rules"
   ]
  },
  {
   "cell_type": "code",
   "execution_count": 11,
   "id": "bc2afd81",
   "metadata": {},
   "outputs": [],
   "source": [
    "original_rules = copy.deepcopy(rules)"
   ]
  },
  {
   "cell_type": "code",
   "execution_count": 12,
   "id": "ae7ac6a3",
   "metadata": {},
   "outputs": [
    {
     "data": {
      "text/plain": [
       "'E'"
      ]
     },
     "execution_count": 12,
     "metadata": {},
     "output_type": "execute_result"
    }
   ],
   "source": [
    "start_symb = grammar[-1]\n",
    "start_symb"
   ]
  },
  {
   "cell_type": "markdown",
   "id": "9ef60e75",
   "metadata": {},
   "source": [
    "# Эпсилон правила"
   ]
  },
  {
   "cell_type": "code",
   "execution_count": 13,
   "id": "f0e67a48",
   "metadata": {},
   "outputs": [
    {
     "data": {
      "text/plain": [
       "set()"
      ]
     },
     "execution_count": 13,
     "metadata": {},
     "output_type": "execute_result"
    }
   ],
   "source": [
    "leads_to_eps = set()\n",
    "for k, v in rules.items():\n",
    "    if [eps] in v:\n",
    "        leads_to_eps.add(k)\n",
    "leads_to_eps"
   ]
  },
  {
   "cell_type": "code",
   "execution_count": 14,
   "id": "2cddbb4a",
   "metadata": {},
   "outputs": [
    {
     "data": {
      "text/plain": [
       "set()"
      ]
     },
     "execution_count": 14,
     "metadata": {},
     "output_type": "execute_result"
    }
   ],
   "source": [
    "flag = True\n",
    "while flag:\n",
    "    flag = False\n",
    "    for k, v in rules.items():\n",
    "        for i in v:\n",
    "            if all(x in leads_to_eps for x in i) and k not in leads_to_eps:\n",
    "                flag = True\n",
    "                leads_to_eps.add(k)\n",
    "leads_to_eps"
   ]
  },
  {
   "cell_type": "code",
   "execution_count": 15,
   "id": "eec43b9b",
   "metadata": {},
   "outputs": [
    {
     "data": {
      "text/plain": [
       "{'E': [['E', '+', 'T'], ['T']],\n",
       " 'T': [['T', '*', 'F'], ['F']],\n",
       " 'F': [['a'], ['(', 'E', ')']]}"
      ]
     },
     "execution_count": 15,
     "metadata": {},
     "output_type": "execute_result"
    }
   ],
   "source": [
    "new_rules = copy.deepcopy(rules)\n",
    "new_rules"
   ]
  },
  {
   "cell_type": "code",
   "execution_count": 16,
   "id": "a6065766",
   "metadata": {},
   "outputs": [],
   "source": [
    "def remove_all_from_list(a, b):\n",
    "    return [x for x in a if x not in b]"
   ]
  },
  {
   "cell_type": "code",
   "execution_count": 17,
   "id": "4e870570",
   "metadata": {},
   "outputs": [],
   "source": [
    "for k, v in rules.items():\n",
    "    for i in v:\n",
    "        leads_to_eps_in_curr = [x for x in i if x in leads_to_eps]\n",
    "        if leads_to_eps_in_curr:\n",
    "            for len_perm in range(1, len(leads_to_eps_in_curr)+1):\n",
    "                for j in combinations(leads_to_eps_in_curr, len_perm):\n",
    "                    to_append = remove_all_from_list(i, j)\n",
    "                    if to_append:\n",
    "                        new_rules[k].append(remove_all_from_list(i, j))\n",
    "            \n"
   ]
  },
  {
   "cell_type": "code",
   "execution_count": 18,
   "id": "809a645d",
   "metadata": {},
   "outputs": [
    {
     "data": {
      "text/plain": [
       "{'E': [['E', '+', 'T'], ['T']],\n",
       " 'T': [['T', '*', 'F'], ['F']],\n",
       " 'F': [['a'], ['(', 'E', ')']]}"
      ]
     },
     "execution_count": 18,
     "metadata": {},
     "output_type": "execute_result"
    }
   ],
   "source": [
    "new_rules"
   ]
  },
  {
   "cell_type": "code",
   "execution_count": 19,
   "id": "f05b58af",
   "metadata": {},
   "outputs": [
    {
     "data": {
      "text/plain": [
       "{'E': [['E', '+', 'T'], ['T']],\n",
       " 'T': [['T', '*', 'F'], ['F']],\n",
       " 'F': [['a'], ['(', 'E', ')']]}"
      ]
     },
     "execution_count": 19,
     "metadata": {},
     "output_type": "execute_result"
    }
   ],
   "source": [
    "for k, v in new_rules.items():\n",
    "    if [eps] in v:\n",
    "        v.remove([eps])\n",
    "new_rules"
   ]
  },
  {
   "cell_type": "code",
   "execution_count": 20,
   "id": "4725e68a",
   "metadata": {},
   "outputs": [
    {
     "data": {
      "text/plain": [
       "{'E': [['E', '+', 'T'], ['T']],\n",
       " 'T': [['T', '*', 'F'], ['F']],\n",
       " 'F': [['a'], ['(', 'E', ')']]}"
      ]
     },
     "execution_count": 20,
     "metadata": {},
     "output_type": "execute_result"
    }
   ],
   "source": [
    "rules"
   ]
  },
  {
   "cell_type": "code",
   "execution_count": 21,
   "id": "60645f65",
   "metadata": {},
   "outputs": [
    {
     "data": {
      "text/plain": [
       "{'E': [['E', '+', 'T'], ['T']],\n",
       " 'T': [['T', '*', 'F'], ['F']],\n",
       " 'F': [['a'], ['(', 'E', ')']]}"
      ]
     },
     "execution_count": 21,
     "metadata": {},
     "output_type": "execute_result"
    }
   ],
   "source": [
    "if start_symb in leads_to_eps:\n",
    "    new_start_symbol = start_symb+\"*\"\n",
    "    new_rules[new_start_symbol] = [[eps], [start_symb]]\n",
    "    start_symb = new_start_symbol\n",
    "new_rules"
   ]
  },
  {
   "cell_type": "code",
   "execution_count": 22,
   "id": "d6ca93c5",
   "metadata": {},
   "outputs": [
    {
     "data": {
      "text/plain": [
       "{'E': [['E', '+', 'T'], ['T']],\n",
       " 'T': [['T', '*', 'F'], ['F']],\n",
       " 'F': [['a'], ['(', 'E', ')']]}"
      ]
     },
     "execution_count": 22,
     "metadata": {},
     "output_type": "execute_result"
    }
   ],
   "source": [
    "rules = copy.deepcopy(new_rules) # Теперь без eps\n",
    "rules"
   ]
  },
  {
   "cell_type": "markdown",
   "id": "c963cfeb",
   "metadata": {},
   "source": [
    "# Цепные правила"
   ]
  },
  {
   "cell_type": "code",
   "execution_count": 23,
   "id": "e0ba2c4b",
   "metadata": {},
   "outputs": [
    {
     "data": {
      "text/plain": [
       "{'E': ['F', 'E', 'T'], 'T': ['F', 'T'], 'F': ['F']}"
      ]
     },
     "execution_count": 23,
     "metadata": {},
     "output_type": "execute_result"
    }
   ],
   "source": [
    "N_dict = {}\n",
    "for k in new_rules.keys():\n",
    "    N = set()\n",
    "    N.add(k)\n",
    "    N0 = copy.deepcopy(N)\n",
    "    while True:\n",
    "        for symb in N0:\n",
    "            for rule in rules[symb]:\n",
    "                if (len(rule)==1) and (rule[0] in rules.keys()):\n",
    "                    N.add(rule[0])\n",
    "        if N==N0:\n",
    "            break\n",
    "        N0 = copy.deepcopy(N)\n",
    "    N_dict[k] = list(N)\n",
    "N_dict\n"
   ]
  },
  {
   "cell_type": "code",
   "execution_count": 24,
   "id": "856e49fd",
   "metadata": {},
   "outputs": [
    {
     "data": {
      "text/plain": [
       "{'E': [['a'], ['(', 'E', ')'], ['E', '+', 'T'], ['T', '*', 'F']],\n",
       " 'T': [['a'], ['(', 'E', ')'], ['T', '*', 'F']],\n",
       " 'F': [['a'], ['(', 'E', ')']]}"
      ]
     },
     "execution_count": 24,
     "metadata": {},
     "output_type": "execute_result"
    }
   ],
   "source": [
    "new_rules = {}\n",
    "for k in rules.keys():\n",
    "    new_rules[k] = []\n",
    "    for i in N_dict[k]:\n",
    "        for rule in rules[i]:\n",
    "            if (len(rule)==1) and (rule[0] in rules.keys()):\n",
    "                continue\n",
    "            new_rules[k].append(rule)\n",
    "new_rules"
   ]
  },
  {
   "cell_type": "code",
   "execution_count": 25,
   "id": "214d1f08",
   "metadata": {},
   "outputs": [],
   "source": [
    "rules = copy.deepcopy(new_rules) # Теперь без цепных правил"
   ]
  },
  {
   "cell_type": "markdown",
   "id": "b8c8f8db",
   "metadata": {},
   "source": [
    "# Непосредственная левая рекурсия"
   ]
  },
  {
   "cell_type": "code",
   "execution_count": 26,
   "id": "7b2c274c",
   "metadata": {},
   "outputs": [],
   "source": [
    "def remove_direct_lr(symb, res):\n",
    "    new_symb = symb+\"'\"\n",
    "    beta_type = [x for x in res if x[0]!=symb]\n",
    "    alpha_type = [x[1:] for x in res if x not in beta_type]\n",
    "    new_rules_for_symb = [x+[new_symb] for x in beta_type] + beta_type\n",
    "    rules_for_new_symb = [x+[new_symb] for x in alpha_type] + alpha_type\n",
    "    return new_rules_for_symb, new_symb, rules_for_new_symb"
   ]
  },
  {
   "cell_type": "code",
   "execution_count": 27,
   "id": "82db662b",
   "metadata": {},
   "outputs": [
    {
     "data": {
      "text/plain": [
       "([['a', \"E'\"],\n",
       "  ['(', 'E', ')', \"E'\"],\n",
       "  ['T', '*', 'F', \"E'\"],\n",
       "  ['a'],\n",
       "  ['(', 'E', ')'],\n",
       "  ['T', '*', 'F']],\n",
       " \"E'\",\n",
       " [['+', 'T', \"E'\"], ['+', 'T']])"
      ]
     },
     "execution_count": 27,
     "metadata": {},
     "output_type": "execute_result"
    }
   ],
   "source": [
    "remove_direct_lr(\"E\", rules[\"E\"])"
   ]
  },
  {
   "cell_type": "code",
   "execution_count": 28,
   "id": "a47e765b",
   "metadata": {},
   "outputs": [
    {
     "data": {
      "text/plain": [
       "{'E': [['a'], ['(', 'E', ')'], ['E', '+', 'T'], ['T', '*', 'F']],\n",
       " 'T': [['a'], ['(', 'E', ')'], ['T', '*', 'F']],\n",
       " 'F': [['a'], ['(', 'E', ')']]}"
      ]
     },
     "execution_count": 28,
     "metadata": {},
     "output_type": "execute_result"
    }
   ],
   "source": [
    "rules"
   ]
  },
  {
   "cell_type": "code",
   "execution_count": 29,
   "id": "a58e54f6",
   "metadata": {},
   "outputs": [],
   "source": [
    "new_rules = copy.deepcopy(rules)"
   ]
  },
  {
   "cell_type": "markdown",
   "id": "476bb1ee",
   "metadata": {},
   "source": [
    "# Левая рекурсия"
   ]
  },
  {
   "cell_type": "code",
   "execution_count": 30,
   "id": "ad3b87e3",
   "metadata": {},
   "outputs": [
    {
     "data": {
      "text/plain": [
       "{'E': [['a', \"E'\"],\n",
       "  ['(', 'E', ')', \"E'\"],\n",
       "  ['T', '*', 'F', \"E'\"],\n",
       "  ['a'],\n",
       "  ['(', 'E', ')'],\n",
       "  ['T', '*', 'F']],\n",
       " 'T': [['a', \"T'\"], ['(', 'E', ')', \"T'\"], ['a'], ['(', 'E', ')']],\n",
       " 'F': [['a'], ['(', 'E', ')']],\n",
       " \"E'\": [['+', 'T', \"E'\"], ['+', 'T']],\n",
       " \"T'\": [['*', 'F', \"T'\"], ['*', 'F']]}"
      ]
     },
     "execution_count": 30,
     "metadata": {},
     "output_type": "execute_result"
    }
   ],
   "source": [
    "for i in range(len(nonterm)):\n",
    "    for j in range(i):\n",
    "        for rule_to_check in rules[nonterm[i]]:\n",
    "            if rule_to_check[0]==nonterm[j]:\n",
    "                new_rules[nonterm[i]].remove(rule_to_check)\n",
    "                for extra_rule in new_rules[nonterm[j]]:\n",
    "                    new_rules[nonterm[i]].append(extra_rule + rule_to_check[1:])\n",
    "    a, b, c = remove_direct_lr(nonterm[i], new_rules[nonterm[i]])\n",
    "    if c:\n",
    "        new_rules[nonterm[i]] = a\n",
    "\n",
    "        new_rules[b] = c\n",
    "new_rules"
   ]
  },
  {
   "cell_type": "code",
   "execution_count": 31,
   "id": "f2ed8190",
   "metadata": {},
   "outputs": [],
   "source": [
    "rules = copy.deepcopy(new_rules)"
   ]
  },
  {
   "cell_type": "markdown",
   "id": "a324c207",
   "metadata": {},
   "source": [
    "# Бесполезные символы"
   ]
  },
  {
   "cell_type": "code",
   "execution_count": 32,
   "id": "4c055784",
   "metadata": {},
   "outputs": [],
   "source": [
    "# 2.7\n",
    "N = set()\n",
    "flag = True\n",
    "while flag:\n",
    "    flag = False\n",
    "    for k, v in rules.items():\n",
    "        for rule in v:\n",
    "            if all(x for x in nonterm+list(N)) and k not in N:\n",
    "                N.add(k)\n",
    "                flag = True\n"
   ]
  },
  {
   "cell_type": "code",
   "execution_count": 33,
   "id": "e55fbd59",
   "metadata": {},
   "outputs": [
    {
     "data": {
      "text/plain": [
       "{'E', \"E'\", 'F', 'T', \"T'\"}"
      ]
     },
     "execution_count": 33,
     "metadata": {},
     "output_type": "execute_result"
    }
   ],
   "source": [
    "N_e = copy.deepcopy(N)\n",
    "N_e"
   ]
  },
  {
   "cell_type": "code",
   "execution_count": 34,
   "id": "f53db5c6",
   "metadata": {},
   "outputs": [
    {
     "name": "stdout",
     "output_type": "stream",
     "text": [
      "YES\n"
     ]
    }
   ],
   "source": [
    "if start_symb in N_e:\n",
    "    print(\"YES\")\n",
    "else:\n",
    "    print(\"NO\")"
   ]
  },
  {
   "cell_type": "code",
   "execution_count": 35,
   "id": "0c9eb37d",
   "metadata": {},
   "outputs": [
    {
     "data": {
      "text/plain": [
       "['+', '*', '(', ')', 'a']"
      ]
     },
     "execution_count": 35,
     "metadata": {},
     "output_type": "execute_result"
    }
   ],
   "source": [
    "term"
   ]
  },
  {
   "cell_type": "code",
   "execution_count": 36,
   "id": "3d231205",
   "metadata": {},
   "outputs": [
    {
     "data": {
      "text/plain": [
       "['+', '*', '(', ')', 'a', \"E'\", 'F', 'E', 'T', \"T'\"]"
      ]
     },
     "execution_count": 36,
     "metadata": {},
     "output_type": "execute_result"
    }
   ],
   "source": [
    "term + list(N_e)"
   ]
  },
  {
   "cell_type": "code",
   "execution_count": 37,
   "id": "1dde24e0",
   "metadata": {},
   "outputs": [
    {
     "data": {
      "text/plain": [
       "{'E': [['a', \"E'\"],\n",
       "  ['(', 'E', ')', \"E'\"],\n",
       "  ['T', '*', 'F', \"E'\"],\n",
       "  ['a'],\n",
       "  ['(', 'E', ')'],\n",
       "  ['T', '*', 'F']],\n",
       " 'T': [['a', \"T'\"], ['(', 'E', ')', \"T'\"], ['a'], ['(', 'E', ')']],\n",
       " 'F': [['a'], ['(', 'E', ')']],\n",
       " \"E'\": [['+', 'T', \"E'\"], ['+', 'T']],\n",
       " \"T'\": [['*', 'F', \"T'\"], ['*', 'F']]}"
      ]
     },
     "execution_count": 37,
     "metadata": {},
     "output_type": "execute_result"
    }
   ],
   "source": [
    "rules"
   ]
  },
  {
   "cell_type": "code",
   "execution_count": 38,
   "id": "f39def9b",
   "metadata": {},
   "outputs": [
    {
     "data": {
      "text/plain": [
       "{'E': [['a', \"E'\"],\n",
       "  ['(', 'E', ')', \"E'\"],\n",
       "  ['T', '*', 'F', \"E'\"],\n",
       "  ['a'],\n",
       "  ['(', 'E', ')'],\n",
       "  ['T', '*', 'F']],\n",
       " 'T': [['a', \"T'\"], ['(', 'E', ')', \"T'\"], ['a'], ['(', 'E', ')']],\n",
       " 'F': [['a'], ['(', 'E', ')']],\n",
       " \"E'\": [['+', 'T', \"E'\"], ['+', 'T']],\n",
       " \"T'\": [['*', 'F', \"T'\"], ['*', 'F']]}"
      ]
     },
     "execution_count": 38,
     "metadata": {},
     "output_type": "execute_result"
    }
   ],
   "source": [
    "new_rules = {}\n",
    "for k, v in rules.items():\n",
    "    if k in N_e and k not in new_rules.keys():\n",
    "        new_rules[k] = []\n",
    "    for rule in v:\n",
    "        if all(x in term + list(N_e) +[eps] for x in rule):\n",
    "            new_rules[k].append(rule)\n",
    "new_rules"
   ]
  },
  {
   "cell_type": "code",
   "execution_count": 39,
   "id": "e969c1b2",
   "metadata": {},
   "outputs": [
    {
     "data": {
      "text/plain": [
       "['E', 'T', 'F', \"E'\", \"T'\"]"
      ]
     },
     "execution_count": 39,
     "metadata": {},
     "output_type": "execute_result"
    }
   ],
   "source": [
    "nonterm = list(new_rules.keys())\n",
    "nonterm"
   ]
  },
  {
   "cell_type": "code",
   "execution_count": 40,
   "id": "aad85c36",
   "metadata": {},
   "outputs": [],
   "source": [
    "rules = copy.deepcopy(new_rules)"
   ]
  },
  {
   "cell_type": "code",
   "execution_count": 41,
   "id": "0ee16d1e",
   "metadata": {},
   "outputs": [],
   "source": [
    "# 2.8\n",
    "V = set()\n",
    "V.add(start_symb)\n",
    "while True:\n",
    "    V0 = copy.deepcopy(V)\n",
    "    for i in V0:\n",
    "        if i not in rules.keys():\n",
    "            continue\n",
    "        for rule in rules[i]:\n",
    "            for a in rule:\n",
    "                V.add(a)\n",
    "\n",
    "    if V0==V:\n",
    "        break"
   ]
  },
  {
   "cell_type": "code",
   "execution_count": 42,
   "id": "63a22495",
   "metadata": {},
   "outputs": [
    {
     "data": {
      "text/plain": [
       "{'(', ')', '*', '+', 'E', \"E'\", 'F', 'T', \"T'\", 'a'}"
      ]
     },
     "execution_count": 42,
     "metadata": {},
     "output_type": "execute_result"
    }
   ],
   "source": [
    "V"
   ]
  },
  {
   "cell_type": "code",
   "execution_count": 43,
   "id": "9a2d5f4c",
   "metadata": {},
   "outputs": [],
   "source": [
    "nonterm = [x for x in rules.keys() if x in V]\n",
    "term = [x for x in term if x in V]"
   ]
  },
  {
   "cell_type": "code",
   "execution_count": 44,
   "id": "25223ed0",
   "metadata": {},
   "outputs": [
    {
     "data": {
      "text/plain": [
       "['+', '*', '(', ')', 'a']"
      ]
     },
     "execution_count": 44,
     "metadata": {},
     "output_type": "execute_result"
    }
   ],
   "source": [
    "term"
   ]
  },
  {
   "cell_type": "code",
   "execution_count": 45,
   "id": "e5c4189b",
   "metadata": {},
   "outputs": [
    {
     "data": {
      "text/plain": [
       "{'E': [['a', \"E'\"],\n",
       "  ['(', 'E', ')', \"E'\"],\n",
       "  ['T', '*', 'F', \"E'\"],\n",
       "  ['a'],\n",
       "  ['(', 'E', ')'],\n",
       "  ['T', '*', 'F']],\n",
       " 'T': [['a', \"T'\"], ['(', 'E', ')', \"T'\"], ['a'], ['(', 'E', ')']],\n",
       " 'F': [['a'], ['(', 'E', ')']],\n",
       " \"E'\": [['+', 'T', \"E'\"], ['+', 'T']],\n",
       " \"T'\": [['*', 'F', \"T'\"], ['*', 'F']]}"
      ]
     },
     "execution_count": 45,
     "metadata": {},
     "output_type": "execute_result"
    }
   ],
   "source": [
    "new_rules = {}\n",
    "for k, v in rules.items():\n",
    "    if k not in nonterm:\n",
    "        continue\n",
    "    new_rules[k] = []\n",
    "    for rule in v:\n",
    "        if all(x in term + nonterm + [eps] for x in rule):\n",
    "            new_rules[k].append(rule)\n",
    "new_rules"
   ]
  },
  {
   "cell_type": "code",
   "execution_count": null,
   "id": "492e3146",
   "metadata": {},
   "outputs": [],
   "source": []
  }
 ],
 "metadata": {
  "kernelspec": {
   "display_name": ".venv",
   "language": "python",
   "name": "python3"
  },
  "language_info": {
   "codemirror_mode": {
    "name": "ipython",
    "version": 3
   },
   "file_extension": ".py",
   "mimetype": "text/x-python",
   "name": "python",
   "nbconvert_exporter": "python",
   "pygments_lexer": "ipython3",
   "version": "3.10.11"
  }
 },
 "nbformat": 4,
 "nbformat_minor": 5
}
